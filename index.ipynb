{
 "cells": [
  {
   "cell_type": "markdown",
   "metadata": {},
   "source": [
    "# The Poisson Distribution\n",
    "The poisson distribution has a special relation to the binomial distribution. The theoretical underpinnings are as follows. Imagine that we take a time period and break it into subintervals that are so small that at most one successful event could occur. We can then imagine that for any of these subintervals, a binomial distribution could apply where there is some probability of the event occuring p, a probability q=1-p that the event does not occur, and a probability of 0 that more then one event occurs. We assume that as we cut time into smaller and smaller intervals, the chance of a success should go down. If we take the limit of the binomial distribution as n goes to infinity (more and more subintervals that are progressively smaller), the result is the poisson distribution.\n",
    "\n",
    "Binomial Probability Distribution:  \n",
    "$p(y) = \\binom{n}{y}p^y(1-p)^{n-y}$\n",
    "  \n",
    "$\\lambda = n*p$  \n",
    "  \n",
    "Poisson Probability Distribution:\n",
    "$p(y) = \\frac{\\lambda^y}{y!}e^{-y}$\n",
    "  \n",
    "  \n",
    "Also note that labmda is the now the average number of successes that we anticipate in a given interval. (The probability p of success, times n the number of intervals.) This is then exactly how the poisson is used in practice, if I know the average number of occurences in a given interval, what is the probability that the actual number of occurences is slightly more, slightly less, far more or far less?"
   ]
  },
  {
   "cell_type": "markdown",
   "metadata": {},
   "source": [
    "# Poisson Function\n",
    "Write a function to calculate the probability that y events occur in a given interval given the average number of occurrences expected."
   ]
  },
  {
   "cell_type": "code",
   "execution_count": 7,
   "metadata": {},
   "outputs": [],
   "source": [
    "import numpy as np\n",
    "from scipy.stats import poisson\n",
    "import scipy\n",
    "def poisson(y, mu):\n",
    "    \"\"\"mu (lambda above) is the average number of events in the given time interval.\n",
    "    You are calculating the probability that y events occur.\"\"\"\n",
    "    prob = (mu**y/math.factorial(y)) * np.exp**(-y)\n",
    "    return poisson.pmf(y,mu)"
   ]
  },
  {
   "cell_type": "markdown",
   "metadata": {},
   "source": [
    "# Reinventing the Wheel\n",
    "Check that your poisson function above works by checking its output for 1000 examples against scipys built in function:  \n",
    "scipy.stats.distributions.poisson.pmf"
   ]
  },
  {
   "cell_type": "code",
   "execution_count": 6,
   "metadata": {},
   "outputs": [
    {
     "ename": "TypeError",
     "evalue": "_parse_args() missing 1 required positional argument: 'mu'",
     "output_type": "error",
     "traceback": [
      "\u001b[0;31m---------------------------------------------------------------------------\u001b[0m",
      "\u001b[0;31mTypeError\u001b[0m                                 Traceback (most recent call last)",
      "\u001b[0;32m<ipython-input-6-32af4f471e48>\u001b[0m in \u001b[0;36m<module>\u001b[0;34m()\u001b[0m\n\u001b[0;32m----> 1\u001b[0;31m \u001b[0mscipy\u001b[0m\u001b[0;34m.\u001b[0m\u001b[0mstats\u001b[0m\u001b[0;34m.\u001b[0m\u001b[0mdistributions\u001b[0m\u001b[0;34m.\u001b[0m\u001b[0mpoisson\u001b[0m\u001b[0;34m.\u001b[0m\u001b[0mpmf\u001b[0m\u001b[0;34m(\u001b[0m\u001b[0;36m1000\u001b[0m\u001b[0;34m)\u001b[0m\u001b[0;34m\u001b[0m\u001b[0m\n\u001b[0m",
      "\u001b[0;32m/anaconda3/lib/python3.6/site-packages/scipy/stats/_distn_infrastructure.py\u001b[0m in \u001b[0;36mpmf\u001b[0;34m(self, k, *args, **kwds)\u001b[0m\n\u001b[1;32m   2829\u001b[0m \u001b[0;34m\u001b[0m\u001b[0m\n\u001b[1;32m   2830\u001b[0m         \"\"\"\n\u001b[0;32m-> 2831\u001b[0;31m         \u001b[0margs\u001b[0m\u001b[0;34m,\u001b[0m \u001b[0mloc\u001b[0m\u001b[0;34m,\u001b[0m \u001b[0m_\u001b[0m \u001b[0;34m=\u001b[0m \u001b[0mself\u001b[0m\u001b[0;34m.\u001b[0m\u001b[0m_parse_args\u001b[0m\u001b[0;34m(\u001b[0m\u001b[0;34m*\u001b[0m\u001b[0margs\u001b[0m\u001b[0;34m,\u001b[0m \u001b[0;34m**\u001b[0m\u001b[0mkwds\u001b[0m\u001b[0;34m)\u001b[0m\u001b[0;34m\u001b[0m\u001b[0m\n\u001b[0m\u001b[1;32m   2832\u001b[0m         \u001b[0mk\u001b[0m\u001b[0;34m,\u001b[0m \u001b[0mloc\u001b[0m \u001b[0;34m=\u001b[0m \u001b[0mmap\u001b[0m\u001b[0;34m(\u001b[0m\u001b[0masarray\u001b[0m\u001b[0;34m,\u001b[0m \u001b[0;34m(\u001b[0m\u001b[0mk\u001b[0m\u001b[0;34m,\u001b[0m \u001b[0mloc\u001b[0m\u001b[0;34m)\u001b[0m\u001b[0;34m)\u001b[0m\u001b[0;34m\u001b[0m\u001b[0m\n\u001b[1;32m   2833\u001b[0m         \u001b[0margs\u001b[0m \u001b[0;34m=\u001b[0m \u001b[0mtuple\u001b[0m\u001b[0;34m(\u001b[0m\u001b[0mmap\u001b[0m\u001b[0;34m(\u001b[0m\u001b[0masarray\u001b[0m\u001b[0;34m,\u001b[0m \u001b[0margs\u001b[0m\u001b[0;34m)\u001b[0m\u001b[0;34m)\u001b[0m\u001b[0;34m\u001b[0m\u001b[0m\n",
      "\u001b[0;31mTypeError\u001b[0m: _parse_args() missing 1 required positional argument: 'mu'"
     ]
    }
   ],
   "source": [
    "scipy.stats.distributions.poisson.pmf(1000)"
   ]
  },
  {
   "cell_type": "markdown",
   "metadata": {},
   "source": [
    "# Mail\n",
    "Let's say on average, you receive 4 pieces of mail per day. Draw a graph with the x-axis pieces of mail (0-20) and the y-axis the probabilitiy that you receive that many pieces of mail on a given day."
   ]
  },
  {
   "cell_type": "code",
   "execution_count": 23,
   "metadata": {},
   "outputs": [],
   "source": [
    "import numpy as np\n",
    "import matplotlib.pyplot as plt\n",
    "from scipy.misc import factorial\n",
    "import math\n",
    "from scipy.stats import poisson\n"
   ]
  },
  {
   "cell_type": "code",
   "execution_count": 24,
   "metadata": {},
   "outputs": [
    {
     "data": {
      "text/plain": [
       "<matplotlib.collections.PathCollection at 0x1a1ca676d8>"
      ]
     },
     "execution_count": 24,
     "metadata": {},
     "output_type": "execute_result"
    },
    {
     "data": {
      "image/png": "[encoded data removed]",
      "text/plain": [
       "<Figure size 432x288 with 1 Axes>"
      ]
     },
     "metadata": {},
     "output_type": "display_data"
    }
   ],
   "source": [
    "x= []\n",
    "for i in range(21):\n",
    "     x.append(poisson.pmf(i,4)) \n",
    "\n",
    "plt.scatter(range(21),x)"
   ]
  },
  {
   "cell_type": "markdown",
   "metadata": {},
   "source": [
    "# Home Runs\n",
    "https://www.teamrankings.com/mlb/stat/home-runs-per-game  \n",
    "  \n",
    "On average, the Yankees hit 1.47 home runs per game in 2017. What was the probability that they hit 2 home runs in a game? 3?"
   ]
  },
  {
   "cell_type": "code",
   "execution_count": 26,
   "metadata": {},
   "outputs": [
    {
     "name": "stdout",
     "output_type": "stream",
     "text": [
      "0.2484229904699958\n",
      "0.12172726533029792\n"
     ]
    }
   ],
   "source": [
    "from scipy.stats import poisson\n",
    "hr_game = 1/1.47\n",
    "print(poisson.pmf(2,1.47)) #2\n",
    "print(poisson.pmf(3,1.47))# 3 in a game"
   ]
  },
  {
   "cell_type": "markdown",
   "metadata": {},
   "source": [
    "# Home Runs 2\n",
    "In the same year, the Red Sox only had 1.04 home runs per game in 2017. What was the probability that they hit 2 home runs in a game? 3?"
   ]
  },
  {
   "cell_type": "code",
   "execution_count": 27,
   "metadata": {},
   "outputs": [
    {
     "name": "stdout",
     "output_type": "stream",
     "text": [
      "0.1911482920033083\n",
      "0.06626474122781358\n"
     ]
    }
   ],
   "source": [
    "print(poisson.pmf(2,1.04)) #2\n",
    "print(poisson.pmf(3,1.04))# 3 in a game"
   ]
  },
  {
   "cell_type": "markdown",
   "metadata": {},
   "source": [
    "# Product Failures\n",
    "Airplane tires need replacement after about 1500 flights. Let's assume that on an average day, an airline has to replace 2.34 tires per day. If you want to have a 95% confidence that you'll have enough tires for needed repairs, how many should be on stock? (We want to have enough, but storing tires is also expensive!)"
   ]
  },
  {
   "cell_type": "code",
   "execution_count": 30,
   "metadata": {},
   "outputs": [],
   "source": [
    "def exp_cdf(y, beta):\n",
    "    prob = 1 - np.exp(-y/beta)\n",
    "    return prob"
   ]
  },
  {
   "cell_type": "code",
   "execution_count": 33,
   "metadata": {},
   "outputs": [
    {
     "name": "stdout",
     "output_type": "stream",
     "text": [
      "0 0.09632763823049303 0.09632763823049303\n",
      "1 0.22540667345935367 0.3217343116898467\n",
      "2 0.2637258079474438 0.5854601196372905\n",
      "3 0.2057061301990062 0.7911662498362967\n",
      "4 0.12033808616641858 0.9115043360027153\n",
      "5 0.05631822432588393 0.9678225603285993\n"
     ]
    }
   ],
   "source": [
    "cum_prob = 0\n",
    "tires = 0\n",
    "while cum_prob < .95:\n",
    "    prob =poisson.pmf(tires,2.34)\n",
    "    cum_prob += prob\n",
    "    print(tires, prob, cum_prob)\n",
    "    tires +=1\n"
   ]
  },
  {
   "cell_type": "markdown",
   "metadata": {},
   "source": [
    "# Product Failures 2\n",
    "How many tires do you need on stock to have a 99% confidence that you'll have enough in stock? 99.9% confidence?"
   ]
  },
  {
   "cell_type": "code",
   "execution_count": 34,
   "metadata": {},
   "outputs": [
    {
     "name": "stdout",
     "output_type": "stream",
     "text": [
      "0 0.09632763823049303 0.09632763823049303\n",
      "1 0.22540667345935367 0.3217343116898467\n",
      "2 0.2637258079474438 0.5854601196372905\n",
      "3 0.2057061301990062 0.7911662498362967\n",
      "4 0.12033808616641858 0.9115043360027153\n",
      "5 0.05631822432588393 0.9678225603285993\n",
      "6 0.02196410748709472 0.989786667815694\n",
      "7 0.007342287359971661 0.9971289551756657\n"
     ]
    }
   ],
   "source": [
    "cum_prob = 0\n",
    "tires = 0\n",
    "while cum_prob < .99:\n",
    "    prob =poisson.pmf(tires,2.34)\n",
    "    cum_prob += prob\n",
    "    print(tires, prob, cum_prob)\n",
    "    tires +=1"
   ]
  },
  {
   "cell_type": "code",
   "execution_count": 35,
   "metadata": {},
   "outputs": [
    {
     "name": "stdout",
     "output_type": "stream",
     "text": [
      "0 0.09632763823049303 0.09632763823049303\n",
      "1 0.22540667345935367 0.3217343116898467\n",
      "2 0.2637258079474438 0.5854601196372905\n",
      "3 0.2057061301990062 0.7911662498362967\n",
      "4 0.12033808616641858 0.9115043360027153\n",
      "5 0.05631822432588393 0.9678225603285993\n",
      "6 0.02196410748709472 0.989786667815694\n",
      "7 0.007342287359971661 0.9971289551756657\n",
      "8 0.00214761905279171 0.9992765742284574\n"
     ]
    }
   ],
   "source": [
    "cum_prob = 0\n",
    "tires = 0\n",
    "while cum_prob < .999:\n",
    "    prob =poisson.pmf(tires,2.34)\n",
    "    cum_prob += prob\n",
    "    print(tires, prob, cum_prob)\n",
    "    tires +=1"
   ]
  },
  {
   "cell_type": "code",
   "execution_count": null,
   "metadata": {},
   "outputs": [],
   "source": []
  }
 ],
 "metadata": {
  "kernelspec": {
   "display_name": "Python 3",
   "language": "python",
   "name": "python3"
  },
  "language_info": {
   "codemirror_mode": {
    "name": "ipython",
    "version": 3
   },
   "file_extension": ".py",
   "mimetype": "text/x-python",
   "name": "python",
   "nbconvert_exporter": "python",
   "pygments_lexer": "ipython3",
   "version": "3.6.5"
  }
 },
 "nbformat": 4,
 "nbformat_minor": 2
}
